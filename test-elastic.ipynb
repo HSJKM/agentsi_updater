{
 "cells": [
  {
   "cell_type": "code",
   "execution_count": 1,
   "metadata": {},
   "outputs": [],
   "source": [
    "from opensearchpy import OpenSearch"
   ]
  },
  {
   "cell_type": "code",
   "execution_count": 6,
   "metadata": {},
   "outputs": [
    {
     "data": {
      "text/plain": [
       "True"
      ]
     },
     "execution_count": 6,
     "metadata": {},
     "output_type": "execute_result"
    }
   ],
   "source": [
    "from dotenv import load_dotenv\n",
    "import os\n",
    "import requests\n",
    "import json\n",
    "load_dotenv() "
   ]
  },
  {
   "cell_type": "code",
   "execution_count": 3,
   "metadata": {},
   "outputs": [
    {
     "name": "stdout",
     "output_type": "stream",
     "text": [
      "https://vpc-es-app-common-os-cluster-my7lghpgc7qqt6wseigawgv2wa.eu-west-2.es.amazonaws.com:443/_cat/indices?v\n"
     ]
    }
   ],
   "source": [
    "import requests\n",
    "url = f\"{os.getenv('ELASTIC_HOSE')}/_cat/indices?v\"\n",
    "print(url)\n",
    "response = requests.get(url)"
   ]
  },
  {
   "cell_type": "code",
   "execution_count": 4,
   "metadata": {},
   "outputs": [
    {
     "name": "stdout",
     "output_type": "stream",
     "text": [
      "health status index                                                       uuid                   pri rep docs.count docs.deleted store.size pri.store.size\n",
      "green  open   property-live-full_2_230408                                 Ko2RzurdSNuAUOUg_r5geQ   5   1   30929250            0     20.2gb         10.1gb\n",
      "green  open   lm_dashboard_v3_28-jan-2024_06-00_do79ldd                   wuXIkJ7mRnGHhCSQtRHFnw   1   1     920447            0    521.5mb        260.4mb\n",
      "green  open   agent_sample_unified_search_index_06-jan-2024_06-00_1broltj CY9X8x2FRQq9KoA_z15eAw   1   1      16836            0      5.1mb          2.5mb\n",
      "green  open   properties_28-jan-2024_06-09_10wfymx                        m_eD9y-ERzWqytgjsypGNg   3   1   30929250            0     19.1gb          9.5gb\n",
      "green  open   residents-live-addr_1_230408                                DpaXlaNXRHCp8ITX_x0aIg   5   1   61825468            0     17.9gb          8.9gb\n",
      "green  open   v3_media_2                                                  OLVM9FnKQ0KtquJH9aUjwA   1   1          0            0       416b           208b\n",
      "green  open   agent_listing_28-jan-2024_06-04_28jp8i4                     skSNO-C-TRWccDSB-Gd2CA   1   1     920447          500    521.5mb          260mb\n",
      "green  open   .kibana_1                                                   WLBW9QVbRsW1HvQbljmq4A   1   2          2            1     30.2kb           10kb\n",
      "green  open   v3_media_5000                                               uYzxCcENRpqcMg4Qu0sOlw   3   1       5000            0      4.3mb          2.1mb\n",
      "green  open   residents-live-addr_1_231109                                i5y0OGKtRHKEtBQbexKE8A   5   1   61733800            0     16.6gb          8.3gb\n",
      "green  open   places-v2_29-jun-2023_06-05_a8m9836                         LYXHVFNATMabAa8KiMlV1g   1   1      58965            0       14mb            7mb\n",
      "green  open   property-live-full_2_231109                                 tFcUXqdCT0G9UYH0tpUX6w   5   1   30927012            0     19.4gb          9.7gb\n",
      "green  open   v3_media_sample                                             aRG12TgjQ0SI6ekF4uJrtw   5   1          1            0     19.3kb          9.6kb\n",
      "\n"
     ]
    }
   ],
   "source": [
    "print(response.text)"
   ]
  },
  {
   "cell_type": "code",
   "execution_count": 11,
   "metadata": {},
   "outputs": [
    {
     "name": "stdout",
     "output_type": "stream",
     "text": [
      "alias                             index                                                       filter routing.index routing.search is_write_index\n",
      "property-live-full_2              property-live-full_2_230408                                 -      -             -              -\n",
      "places-v2                         places-v2_29-jun-2023_06-05_a8m9836                         -      -             -              -\n",
      "residents-live-addr_1             residents-live-addr_1_230408                                -      -             -              -\n",
      "properties                        properties_26-jan-2024_06-10_lwubw41                        -      -             -              -\n",
      ".kibana                           .kibana_1                                                   -      -             -              -\n",
      "lm_dashboard_v3                   lm_dashboard_v3_26-jan-2024_06-00_do8kxam                   -      -             -              -\n",
      "agent_sample_unified_search_index agent_sample_unified_search_index_06-jan-2024_06-00_1broltj -      -             -              -\n",
      "agent_listing                     agent_listing_26-jan-2024_06-05_psoz8q6                     -      -             -              -\n",
      "\n"
     ]
    }
   ],
   "source": [
    "url = f\"{os.getenv('ELASTIC_HOSE')}/_cat/aliases?v\"\n",
    "response = requests.get(url)\n",
    "print(response.text)"
   ]
  },
  {
   "cell_type": "code",
   "execution_count": 5,
   "metadata": {},
   "outputs": [],
   "source": [
    "import json"
   ]
  },
  {
   "cell_type": "code",
   "execution_count": 7,
   "metadata": {},
   "outputs": [
    {
     "name": "stdout",
     "output_type": "stream",
     "text": [
      "{\n",
      "    \"v3_media_5000\": {\n",
      "        \"mappings\": {\n",
      "            \"properties\": {\n",
      "                \"bucket\": {\n",
      "                    \"type\": \"text\",\n",
      "                    \"fields\": {\n",
      "                        \"keyword\": {\n",
      "                            \"type\": \"keyword\",\n",
      "                            \"ignore_above\": 256\n",
      "                        }\n",
      "                    }\n",
      "                },\n",
      "                \"created_at\": {\n",
      "                    \"type\": \"date\"\n",
      "                },\n",
      "                \"has_thumb\": {\n",
      "                    \"type\": \"boolean\"\n",
      "                },\n",
      "                \"image_type\": {\n",
      "                    \"type\": \"text\",\n",
      "                    \"fields\": {\n",
      "                        \"keyword\": {\n",
      "                            \"type\": \"keyword\",\n",
      "                            \"ignore_above\": 256\n",
      "                        }\n",
      "                    }\n",
      "                },\n",
      "                \"listing_id\": {\n",
      "                    \"type\": \"long\"\n",
      "                },\n",
      "                \"loc_id\": {\n",
      "                    \"type\": \"long\"\n",
      "                },\n",
      "                \"media_id\": {\n",
      "                    \"type\": \"text\",\n",
      "                    \"fields\": {\n",
      "                        \"keyword\": {\n",
      "                            \"type\": \"keyword\",\n",
      "                            \"ignore_above\": 256\n",
      "                        }\n",
      "                    }\n",
      "                },\n",
      "                \"path\": {\n",
      "                    \"type\": \"text\",\n",
      "                    \"fields\": {\n",
      "                        \"keyword\": {\n",
      "                            \"type\": \"keyword\",\n",
      "                            \"ignore_above\": 256\n",
      "                        }\n",
      "                    }\n",
      "                },\n",
      "                \"source\": {\n",
      "                    \"type\": \"text\",\n",
      "                    \"fields\": {\n",
      "                        \"keyword\": {\n",
      "                            \"type\": \"keyword\",\n",
      "                            \"ignore_above\": 256\n",
      "                        }\n",
      "                    }\n",
      "                },\n",
      "                \"ttype\": {\n",
      "                    \"type\": \"text\",\n",
      "                    \"fields\": {\n",
      "                        \"keyword\": {\n",
      "                            \"type\": \"keyword\",\n",
      "                            \"ignore_above\": 256\n",
      "                        }\n",
      "                    }\n",
      "                }\n",
      "            }\n",
      "        }\n",
      "    }\n",
      "}\n"
     ]
    }
   ],
   "source": [
    "url = f\"{os.getenv('ELASTIC_HOSE')}/v3_media_5000/_mapping\"\n",
    "response = requests.get(url)\n",
    "pretty_text = json.dumps(json.loads(response.text), indent=4)\n",
    "print(pretty_text)"
   ]
  },
  {
   "cell_type": "code",
   "execution_count": 8,
   "metadata": {},
   "outputs": [
    {
     "name": "stdout",
     "output_type": "stream",
     "text": [
      "{\n",
      "    \"agent_sample_unified_search_index_06-jan-2024_06-00_1broltj\": {\n",
      "        \"mappings\": {\n",
      "            \"dynamic\": \"false\",\n",
      "            \"properties\": {\n",
      "                \"added\": {\n",
      "                    \"type\": \"date\",\n",
      "                    \"format\": \"yyyy-MM-dd HH:mm:ss||yyyy-MM-dd||epoch_millis\"\n",
      "                },\n",
      "                \"address\": {\n",
      "                    \"type\": \"text\",\n",
      "                    \"fields\": {\n",
      "                        \"keyword\": {\n",
      "                            \"type\": \"keyword\",\n",
      "                            \"ignore_above\": 256,\n",
      "                            \"normalizer\": \"lowercase\"\n",
      "                        }\n",
      "                    }\n",
      "                },\n",
      "                \"address_id\": {\n",
      "                    \"type\": \"keyword\"\n",
      "                },\n",
      "                \"agent_name\": {\n",
      "                    \"type\": \"keyword\"\n",
      "                },\n",
      "                \"bedrooms\": {\n",
      "                    \"type\": \"byte\"\n",
      "                },\n",
      "                \"category\": {\n",
      "                    \"type\": \"keyword\",\n",
      "                    \"normalizer\": \"lowercase\"\n",
      "                },\n",
      "                \"district\": {\n",
      "                    \"type\": \"keyword\",\n",
      "                    \"normalizer\": \"lowercase\"\n",
      "                },\n",
      "                \"external_area\": {\n",
      "                    \"type\": \"integer\"\n",
      "                },\n",
      "                \"floor_area\": {\n",
      "                    \"type\": \"integer\"\n",
      "                },\n",
      "                \"geo_point\": {\n",
      "                    \"type\": \"geo_point\"\n",
      "                },\n",
      "                \"is_live_listing\": {\n",
      "                    \"type\": \"byte\"\n",
      "                },\n",
      "                \"last_rented\": {\n",
      "                    \"type\": \"date\",\n",
      "                    \"format\": \"yyyy-MM-dd HH:mm:ss||yyyy-MM-dd||epoch_millis\"\n",
      "                },\n",
      "                \"last_rented_value\": {\n",
      "                    \"type\": \"integer\"\n",
      "                },\n",
      "                \"last_visible\": {\n",
      "                    \"type\": \"date\",\n",
      "                    \"format\": \"yyyy-MM-dd HH:mm:ss||yyyy-MM-dd||epoch_millis\"\n",
      "                },\n",
      "                \"listing_activity_status\": {\n",
      "                    \"type\": \"keyword\"\n",
      "                },\n",
      "                \"listing_img\": {\n",
      "                    \"type\": \"text\"\n",
      "                },\n",
      "                \"postcode\": {\n",
      "                    \"type\": \"keyword\",\n",
      "                    \"normalizer\": \"lowercase\"\n",
      "                },\n",
      "                \"price\": {\n",
      "                    \"type\": \"long\"\n",
      "                },\n",
      "                \"rental_social\": {\n",
      "                    \"type\": \"byte\"\n",
      "                },\n",
      "                \"sales_act_status\": {\n",
      "                    \"type\": \"keyword\"\n",
      "                },\n",
      "                \"sales_event_date\": {\n",
      "                    \"type\": \"date\",\n",
      "                    \"format\": \"yyyy-MM-dd HH:mm:ss||yyyy-MM-dd||epoch_millis\"\n",
      "                },\n",
      "                \"sector\": {\n",
      "                    \"type\": \"keyword\",\n",
      "                    \"normalizer\": \"lowercase\"\n",
      "                }\n",
      "            }\n",
      "        }\n",
      "    }\n",
      "}\n"
     ]
    }
   ],
   "source": [
    "url = f\"{os.getenv('ELASTIC_HOSE')}/agent_sample_unified_search_index/_mapping\"\n",
    "response = requests.get(url)\n",
    "pretty_text = json.dumps(json.loads(response.text), indent=4)\n",
    "print(pretty_text)"
   ]
  },
  {
   "cell_type": "code",
   "execution_count": 29,
   "metadata": {},
   "outputs": [
    {
     "name": "stdout",
     "output_type": "stream",
     "text": [
      "{\"took\": 1, \"timed_out\": false, \"_shards\": {\"total\": 1, \"successful\": 1, \"skipped\": 0, \"failed\": 0}, \"hits\": {\"total\": {\"value\": 0, \"relation\": \"eq\"}, \"max_score\": null, \"hits\": []}}\n"
     ]
    }
   ],
   "source": [
    "# 6361810\n",
    "\n",
    "url = f\"{os.getenv('ELASTIC_HOSE')}/agent_sample_unified_search_index/_search\"\n",
    "\n",
    "# specify the query\n",
    "query = {\n",
    "    \"query\": {\n",
    "        \"match\": {\n",
    "            \"address_id\": \"9999999\"\n",
    "        }\n",
    "    }\n",
    "}\n",
    "\n",
    "# send a POST request\n",
    "response = requests.post(url, headers={\"Content-Type\": \"application/json\"}, data=json.dumps(query))\n",
    "\n",
    "# print the response\n",
    "print(json.dumps(json.loads(response.text)))"
   ]
  },
  {
   "cell_type": "code",
   "execution_count": 24,
   "metadata": {},
   "outputs": [
    {
     "name": "stdout",
     "output_type": "stream",
     "text": [
      "https://vpc-es-app-common-os-cluster-my7lghpgc7qqt6wseigawgv2wa.eu-west-2.es.amazonaws.com:443/agent_sample_unified_search_index/_search\n"
     ]
    }
   ],
   "source": [
    "print(url)"
   ]
  },
  {
   "cell_type": "code",
   "execution_count": 31,
   "metadata": {},
   "outputs": [
    {
     "data": {
      "text/plain": [
       "0"
      ]
     },
     "execution_count": 31,
     "metadata": {},
     "output_type": "execute_result"
    }
   ],
   "source": [
    "json.loads(response.text)['hits']['total']['value'] #[0]['_id']\n"
   ]
  },
  {
   "cell_type": "code",
   "execution_count": null,
   "metadata": {},
   "outputs": [],
   "source": []
  },
  {
   "cell_type": "code",
   "execution_count": 19,
   "metadata": {},
   "outputs": [
    {
     "data": {
      "text/plain": [
       "'{\"agent_sample_unified_search_index_06-jan-2024_06-00_1broltj\":{\"mappings\":{\"dynamic\":\"false\",\"properties\":{\"added\":{\"type\":\"date\",\"format\":\"yyyy-MM-dd HH:mm:ss||yyyy-MM-dd||epoch_millis\"},\"address\":{\"type\":\"text\",\"fields\":{\"keyword\":{\"type\":\"keyword\",\"ignore_above\":256,\"normalizer\":\"lowercase\"}}},\"address_id\":{\"type\":\"keyword\"},\"agent_name\":{\"type\":\"keyword\"},\"bedrooms\":{\"type\":\"byte\"},\"category\":{\"type\":\"keyword\",\"normalizer\":\"lowercase\"},\"district\":{\"type\":\"keyword\",\"normalizer\":\"lowercase\"},\"external_area\":{\"type\":\"integer\"},\"floor_area\":{\"type\":\"integer\"},\"geo_point\":{\"type\":\"geo_point\"},\"is_live_listing\":{\"type\":\"byte\"},\"last_rented\":{\"type\":\"date\",\"format\":\"yyyy-MM-dd HH:mm:ss||yyyy-MM-dd||epoch_millis\"},\"last_rented_value\":{\"type\":\"integer\"},\"last_visible\":{\"type\":\"date\",\"format\":\"yyyy-MM-dd HH:mm:ss||yyyy-MM-dd||epoch_millis\"},\"listing_activity_status\":{\"type\":\"keyword\"},\"listing_img\":{\"type\":\"text\"},\"postcode\":{\"type\":\"keyword\",\"normalizer\":\"lowercase\"},\"price\":{\"type\":\"long\"},\"rental_social\":{\"type\":\"byte\"},\"sales_act_status\":{\"type\":\"keyword\"},\"sales_event_date\":{\"type\":\"date\",\"format\":\"yyyy-MM-dd HH:mm:ss||yyyy-MM-dd||epoch_millis\"},\"sector\":{\"type\":\"keyword\",\"normalizer\":\"lowercase\"}}}}}'"
      ]
     },
     "execution_count": 19,
     "metadata": {},
     "output_type": "execute_result"
    }
   ],
   "source": [
    "response.text"
   ]
  },
  {
   "cell_type": "code",
   "execution_count": 17,
   "metadata": {},
   "outputs": [
    {
     "name": "stdout",
     "output_type": "stream",
     "text": [
      "{\n",
      "    \"name\": \"John\",\n",
      "    \"age\": 30,\n",
      "    \"city\": \"New York\"\n",
      "}\n"
     ]
    }
   ],
   "source": [
    "json_string = '{\"name\": \"John\", \"age\": 30, \"city\": \"New York\"}'\n",
    "parsed_json = json.loads(json_string)\n",
    "pretty_json = json.dumps(parsed_json, indent=4)\n",
    "print(pretty_json)"
   ]
  }
 ],
 "metadata": {
  "kernelspec": {
   "display_name": "venv",
   "language": "python",
   "name": "python3"
  },
  "language_info": {
   "codemirror_mode": {
    "name": "ipython",
    "version": 3
   },
   "file_extension": ".py",
   "mimetype": "text/x-python",
   "name": "python",
   "nbconvert_exporter": "python",
   "pygments_lexer": "ipython3",
   "version": "3.10.9"
  }
 },
 "nbformat": 4,
 "nbformat_minor": 2
}
