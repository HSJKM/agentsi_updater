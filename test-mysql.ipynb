{
 "cells": [
  {
   "cell_type": "code",
   "execution_count": 3,
   "metadata": {},
   "outputs": [
    {
     "data": {
      "text/plain": [
       "True"
      ]
     },
     "execution_count": 3,
     "metadata": {},
     "output_type": "execute_result"
    }
   ],
   "source": [
    "from dotenv import load_dotenv\n",
    "import os\n",
    "import mysql.connector\n",
    "\n",
    "load_dotenv() "
   ]
  },
  {
   "cell_type": "code",
   "execution_count": 4,
   "metadata": {},
   "outputs": [],
   "source": [
    "\n",
    "\n",
    "# Establish a connection to the MySQL server\n",
    "cnx = mysql.connector.connect(user=os.getenv('DB_USER'), password=os.getenv('DB_PASSWORD'),\n",
    "                              host=os.getenv('DB_HOST'),\n",
    "                              database=os.getenv('DB_DATABASE'))\n",
    "\n"
   ]
  },
  {
   "cell_type": "code",
   "execution_count": null,
   "metadata": {},
   "outputs": [],
   "source": [
    "# Create a cursor object\n",
    "cursor = cnx.cursor()\n",
    "\n",
    "# Execute a SQL query to select the rows you want to update\n",
    "cursor.execute(\"SELECT * FROM table_name\")\n",
    "\n",
    "# Fetch the rows\n",
    "rows = cursor.fetchall()\n",
    "\n",
    "# Loop through the rows and update each row\n",
    "for row in rows:\n",
    "    # Execute an UPDATE SQL query to update the row\n",
    "    cursor.execute(f\"UPDATE table_name SET column_name = 'new_value' WHERE id = {row[0]}\")\n",
    "\n",
    "# Commit the changes\n",
    "cnx.commit()\n",
    "\n",
    "# Close the cursor and connection\n",
    "cursor.close()\n",
    "cnx.close()"
   ]
  },
  {
   "cell_type": "code",
   "execution_count": 74,
   "metadata": {},
   "outputs": [
    {
     "name": "stderr",
     "output_type": "stream",
     "text": [
      "C:\\Users\\Jason McGinty\\AppData\\Local\\Temp\\ipykernel_1296\\637412170.py:15: UserWarning: pandas only supports SQLAlchemy connectable (engine/connection) or database string URI or sqlite3 DBAPI2 connection. Other DBAPI2 objects are not tested. Please consider using SQLAlchemy.\n",
      "  df_matched = pd.read_sql('''\n",
      "C:\\Users\\Jason McGinty\\AppData\\Local\\Temp\\ipykernel_1296\\637412170.py:24: UserWarning: pandas only supports SQLAlchemy connectable (engine/connection) or database string URI or sqlite3 DBAPI2 connection. Other DBAPI2 objects are not tested. Please consider using SQLAlchemy.\n",
      "  df_unmatched = pd.read_sql('''\n"
     ]
    }
   ],
   "source": [
    "import os\n",
    "import pandas as pd\n",
    "import mysql.connector\n",
    "from sqlalchemy import create_engine\n",
    "\n",
    "# Establish a connection to the MySQL server\n",
    "cnx = mysql.connector.connect(user=os.getenv('DB_USER'), password=os.getenv('DB_PASSWORD'),\n",
    "                              host=os.getenv('DB_HOST'),\n",
    "                              database=os.getenv('DB_DATABASE'))\n",
    "\n",
    "# Create a cursor object\n",
    "cursor = cnx.cursor()\n",
    "\n",
    "# Use pandas to execute a SQL query and download the data into a DataFrame\n",
    "df_matched = pd.read_sql('''\n",
    "                SELECT *\n",
    "                FROM v_listings_v3_1\n",
    "                WHERE (listed_at = CURDATE() - INTERVAL 5 DAY\n",
    "                 OR underoffer_at = CURDATE() - INTERVAL 5 DAY\n",
    "                 OR sstc_at = CURDATE() - INTERVAL 5 DAY\n",
    "                 OR reduced_at = CURDATE() - INTERVAL 5 DAY) and address_id is not null and district = 'M21'\n",
    "                ;''', con=cnx)\n",
    "\n",
    "df_unmatched = pd.read_sql('''\n",
    "                SELECT *\n",
    "                FROM v_listings_v3_1\n",
    "                WHERE (listed_at = CURDATE() - INTERVAL 1 DAY\n",
    "                 OR underoffer_at = CURDATE() - INTERVAL 1 DAY\n",
    "                 OR sstc_at = CURDATE() - INTERVAL 1 DAY\n",
    "                 OR reduced_at = CURDATE() - INTERVAL 1 DAY) and address_id is null\n",
    "                ;''', con=cnx)\n",
    "\n",
    "\n",
    "# Manipulate the DataFrame as needed\n",
    "# df['column_name'] = 'new_value'\n",
    "\n",
    "# Close the cursor and connection\n",
    "cursor.close()\n",
    "cnx.close()\n"
   ]
  },
  {
   "cell_type": "code",
   "execution_count": 59,
   "metadata": {},
   "outputs": [],
   "source": [
    "df_matched['listed_at'] = pd.to_datetime(df_matched['listed_at']).dt.date\n",
    "df_matched['underoffer_at'] = pd.to_datetime(df_matched['underoffer_at']).dt.date\n",
    "df_matched['sstc_at'] = pd.to_datetime(df_matched['sstc_at']).dt.date\n",
    "try:\n",
    "    df_matched['reduced_at'] = pd.to_datetime(df_matched['reduced_at'], errors = 'coerce').dt.date\n",
    "except Exception as e:\n",
    "    print(e)\n",
    "    "
   ]
  },
  {
   "cell_type": "code",
   "execution_count": 63,
   "metadata": {},
   "outputs": [
    {
     "name": "stdout",
     "output_type": "stream",
     "text": [
      "2\n"
     ]
    }
   ],
   "source": [
    "print(df_matched['reduced_at'].isna().sum())"
   ]
  },
  {
   "cell_type": "code",
   "execution_count": 71,
   "metadata": {},
   "outputs": [
    {
     "data": {
      "text/html": [
       "<div>\n",
       "<style scoped>\n",
       "    .dataframe tbody tr th:only-of-type {\n",
       "        vertical-align: middle;\n",
       "    }\n",
       "\n",
       "    .dataframe tbody tr th {\n",
       "        vertical-align: top;\n",
       "    }\n",
       "\n",
       "    .dataframe thead th {\n",
       "        text-align: right;\n",
       "    }\n",
       "</style>\n",
       "<table border=\"1\" class=\"dataframe\">\n",
       "  <thead>\n",
       "    <tr style=\"text-align: right;\">\n",
       "      <th></th>\n",
       "      <th>id</th>\n",
       "      <th>address_id</th>\n",
       "      <th>status_id</th>\n",
       "      <th>type</th>\n",
       "      <th>category</th>\n",
       "      <th>subcategory</th>\n",
       "      <th>beds</th>\n",
       "      <th>baths</th>\n",
       "      <th>current_price</th>\n",
       "      <th>original_price</th>\n",
       "      <th>...</th>\n",
       "      <th>reduced_at</th>\n",
       "      <th>street</th>\n",
       "      <th>district</th>\n",
       "      <th>sector</th>\n",
       "      <th>postcode</th>\n",
       "      <th>lat</th>\n",
       "      <th>lon</th>\n",
       "      <th>image</th>\n",
       "      <th>thumbnail</th>\n",
       "      <th>listing_url</th>\n",
       "    </tr>\n",
       "  </thead>\n",
       "  <tbody>\n",
       "    <tr>\n",
       "      <th>0</th>\n",
       "      <td>45130365</td>\n",
       "      <td>6361810</td>\n",
       "      <td>12</td>\n",
       "      <td>S</td>\n",
       "      <td>HSE</td>\n",
       "      <td>TERR</td>\n",
       "      <td>0</td>\n",
       "      <td>NaN</td>\n",
       "      <td>285000</td>\n",
       "      <td>285000</td>\n",
       "      <td>...</td>\n",
       "      <td>NaT</td>\n",
       "      <td>Henrietta Street</td>\n",
       "      <td>M16</td>\n",
       "      <td>M16 9</td>\n",
       "      <td>M16 9PT</td>\n",
       "      <td>53.459305</td>\n",
       "      <td>-2.268313</td>\n",
       "      <td>https://hs-pt-media.s3.eu-west-2.amazonaws.com...</td>\n",
       "      <td>https://hs-pt-media.s3.eu-west-2.amazonaws.com...</td>\n",
       "      <td>None</td>\n",
       "    </tr>\n",
       "    <tr>\n",
       "      <th>1</th>\n",
       "      <td>46060942</td>\n",
       "      <td>6324897</td>\n",
       "      <td>1</td>\n",
       "      <td>L</td>\n",
       "      <td>FLA</td>\n",
       "      <td>None</td>\n",
       "      <td>2</td>\n",
       "      <td>1.0</td>\n",
       "      <td>995</td>\n",
       "      <td>995</td>\n",
       "      <td>...</td>\n",
       "      <td>NaT</td>\n",
       "      <td>Manchester Road</td>\n",
       "      <td>M16</td>\n",
       "      <td>M16 0</td>\n",
       "      <td>M16 0ED</td>\n",
       "      <td>53.450010</td>\n",
       "      <td>-2.274460</td>\n",
       "      <td>https://hs-pt-media.s3.eu-west-2.amazonaws.com...</td>\n",
       "      <td>https://hs-pt-media.s3.eu-west-2.amazonaws.com...</td>\n",
       "      <td>None</td>\n",
       "    </tr>\n",
       "  </tbody>\n",
       "</table>\n",
       "<p>2 rows × 25 columns</p>\n",
       "</div>"
      ],
      "text/plain": [
       "         id  address_id  status_id type category subcategory  beds  baths  \\\n",
       "0  45130365     6361810         12    S      HSE        TERR     0    NaN   \n",
       "1  46060942     6324897          1    L      FLA        None     2    1.0   \n",
       "\n",
       "   current_price  original_price  ...  reduced_at            street district  \\\n",
       "0         285000          285000  ...         NaT  Henrietta Street      M16   \n",
       "1            995             995  ...         NaT   Manchester Road      M16   \n",
       "\n",
       "  sector postcode        lat       lon  \\\n",
       "0  M16 9  M16 9PT  53.459305 -2.268313   \n",
       "1  M16 0  M16 0ED  53.450010 -2.274460   \n",
       "\n",
       "                                               image  \\\n",
       "0  https://hs-pt-media.s3.eu-west-2.amazonaws.com...   \n",
       "1  https://hs-pt-media.s3.eu-west-2.amazonaws.com...   \n",
       "\n",
       "                                           thumbnail listing_url  \n",
       "0  https://hs-pt-media.s3.eu-west-2.amazonaws.com...        None  \n",
       "1  https://hs-pt-media.s3.eu-west-2.amazonaws.com...        None  \n",
       "\n",
       "[2 rows x 25 columns]"
      ]
     },
     "execution_count": 71,
     "metadata": {},
     "output_type": "execute_result"
    }
   ],
   "source": [
    "df_matched"
   ]
  },
  {
   "cell_type": "code",
   "execution_count": 64,
   "metadata": {},
   "outputs": [
    {
     "data": {
      "text/html": [
       "<div>\n",
       "<style scoped>\n",
       "    .dataframe tbody tr th:only-of-type {\n",
       "        vertical-align: middle;\n",
       "    }\n",
       "\n",
       "    .dataframe tbody tr th {\n",
       "        vertical-align: top;\n",
       "    }\n",
       "\n",
       "    .dataframe thead th {\n",
       "        text-align: right;\n",
       "    }\n",
       "</style>\n",
       "<table border=\"1\" class=\"dataframe\">\n",
       "  <thead>\n",
       "    <tr style=\"text-align: right;\">\n",
       "      <th></th>\n",
       "      <th>listed_at</th>\n",
       "      <th>underoffer_at</th>\n",
       "      <th>sstc_at</th>\n",
       "      <th>reduced_at</th>\n",
       "    </tr>\n",
       "  </thead>\n",
       "  <tbody>\n",
       "    <tr>\n",
       "      <th>0</th>\n",
       "      <td>2023-12-08</td>\n",
       "      <td>2024-01-12</td>\n",
       "      <td>2024-01-25</td>\n",
       "      <td>NaT</td>\n",
       "    </tr>\n",
       "    <tr>\n",
       "      <th>1</th>\n",
       "      <td>2024-01-25</td>\n",
       "      <td>NaT</td>\n",
       "      <td>NaT</td>\n",
       "      <td>NaT</td>\n",
       "    </tr>\n",
       "  </tbody>\n",
       "</table>\n",
       "</div>"
      ],
      "text/plain": [
       "    listed_at underoffer_at     sstc_at reduced_at\n",
       "0  2023-12-08    2024-01-12  2024-01-25        NaT\n",
       "1  2024-01-25           NaT         NaT        NaT"
      ]
     },
     "execution_count": 64,
     "metadata": {},
     "output_type": "execute_result"
    }
   ],
   "source": [
    "df_matched[['listed_at', 'underoffer_at', 'sstc_at', 'reduced_at']].head()"
   ]
  },
  {
   "cell_type": "code",
   "execution_count": 61,
   "metadata": {},
   "outputs": [
    {
     "data": {
      "text/plain": [
       "id                         int64\n",
       "address_id                 int64\n",
       "status_id                  int64\n",
       "type                      object\n",
       "category                  object\n",
       "subcategory               object\n",
       "beds                       int64\n",
       "baths                    float64\n",
       "current_price              int64\n",
       "original_price             int64\n",
       "agency_id                  int64\n",
       "agency_name               object\n",
       "listed_at                 object\n",
       "underoffer_at             object\n",
       "sstc_at                   object\n",
       "reduced_at        datetime64[ns]\n",
       "street                    object\n",
       "district                  object\n",
       "sector                    object\n",
       "postcode                  object\n",
       "lat                      float64\n",
       "lon                      float64\n",
       "image                     object\n",
       "thumbnail                 object\n",
       "listing_url               object\n",
       "dtype: object"
      ]
     },
     "execution_count": 61,
     "metadata": {},
     "output_type": "execute_result"
    }
   ],
   "source": [
    "df_matched.dtypes"
   ]
  },
  {
   "cell_type": "code",
   "execution_count": 62,
   "metadata": {},
   "outputs": [
    {
     "ename": "TypeError",
     "evalue": "Cannot compare NaT with datetime.date object",
     "output_type": "error",
     "traceback": [
      "\u001b[1;31m---------------------------------------------------------------------------\u001b[0m",
      "\u001b[1;31mTypeError\u001b[0m                                 Traceback (most recent call last)",
      "Cell \u001b[1;32mIn[62], line 1\u001b[0m\n\u001b[1;32m----> 1\u001b[0m df_matched[\u001b[38;5;124m'\u001b[39m\u001b[38;5;124mmax_date\u001b[39m\u001b[38;5;124m'\u001b[39m] \u001b[38;5;241m=\u001b[39m \u001b[43mdf_matched\u001b[49m\u001b[43m[\u001b[49m\u001b[43m[\u001b[49m\u001b[38;5;124;43m'\u001b[39;49m\u001b[38;5;124;43mlisted_at\u001b[39;49m\u001b[38;5;124;43m'\u001b[39;49m\u001b[43m,\u001b[49m\u001b[43m \u001b[49m\u001b[38;5;124;43m'\u001b[39;49m\u001b[38;5;124;43munderoffer_at\u001b[39;49m\u001b[38;5;124;43m'\u001b[39;49m\u001b[43m,\u001b[49m\u001b[43m \u001b[49m\u001b[38;5;124;43m'\u001b[39;49m\u001b[38;5;124;43msstc_at\u001b[39;49m\u001b[38;5;124;43m'\u001b[39;49m\u001b[43m,\u001b[49m\u001b[43m \u001b[49m\u001b[38;5;124;43m'\u001b[39;49m\u001b[38;5;124;43mreduced_at\u001b[39;49m\u001b[38;5;124;43m'\u001b[39;49m\u001b[43m]\u001b[49m\u001b[43m]\u001b[49m\u001b[38;5;241;43m.\u001b[39;49m\u001b[43mapply\u001b[49m\u001b[43m(\u001b[49m\u001b[38;5;28;43mmax\u001b[39;49m\u001b[43m,\u001b[49m\u001b[43m \u001b[49m\u001b[43maxis\u001b[49m\u001b[38;5;241;43m=\u001b[39;49m\u001b[38;5;241;43m1\u001b[39;49m\u001b[43m)\u001b[49m\n\u001b[0;32m      2\u001b[0m df_matched\u001b[38;5;241m.\u001b[39mhead()\n",
      "File \u001b[1;32mc:\\Users\\Jason McGinty\\Documents\\Projects\\data-models\\agent-updater\\venv\\lib\\site-packages\\pandas\\core\\frame.py:10347\u001b[0m, in \u001b[0;36mDataFrame.apply\u001b[1;34m(self, func, axis, raw, result_type, args, by_row, engine, engine_kwargs, **kwargs)\u001b[0m\n\u001b[0;32m  10333\u001b[0m \u001b[38;5;28;01mfrom\u001b[39;00m \u001b[38;5;21;01mpandas\u001b[39;00m\u001b[38;5;21;01m.\u001b[39;00m\u001b[38;5;21;01mcore\u001b[39;00m\u001b[38;5;21;01m.\u001b[39;00m\u001b[38;5;21;01mapply\u001b[39;00m \u001b[38;5;28;01mimport\u001b[39;00m frame_apply\n\u001b[0;32m  10335\u001b[0m op \u001b[38;5;241m=\u001b[39m frame_apply(\n\u001b[0;32m  10336\u001b[0m     \u001b[38;5;28mself\u001b[39m,\n\u001b[0;32m  10337\u001b[0m     func\u001b[38;5;241m=\u001b[39mfunc,\n\u001b[1;32m   (...)\u001b[0m\n\u001b[0;32m  10345\u001b[0m     kwargs\u001b[38;5;241m=\u001b[39mkwargs,\n\u001b[0;32m  10346\u001b[0m )\n\u001b[1;32m> 10347\u001b[0m \u001b[38;5;28;01mreturn\u001b[39;00m \u001b[43mop\u001b[49m\u001b[38;5;241;43m.\u001b[39;49m\u001b[43mapply\u001b[49m\u001b[43m(\u001b[49m\u001b[43m)\u001b[49m\u001b[38;5;241m.\u001b[39m__finalize__(\u001b[38;5;28mself\u001b[39m, method\u001b[38;5;241m=\u001b[39m\u001b[38;5;124m\"\u001b[39m\u001b[38;5;124mapply\u001b[39m\u001b[38;5;124m\"\u001b[39m)\n",
      "File \u001b[1;32mc:\\Users\\Jason McGinty\\Documents\\Projects\\data-models\\agent-updater\\venv\\lib\\site-packages\\pandas\\core\\apply.py:916\u001b[0m, in \u001b[0;36mFrameApply.apply\u001b[1;34m(self)\u001b[0m\n\u001b[0;32m    913\u001b[0m \u001b[38;5;28;01melif\u001b[39;00m \u001b[38;5;28mself\u001b[39m\u001b[38;5;241m.\u001b[39mraw:\n\u001b[0;32m    914\u001b[0m     \u001b[38;5;28;01mreturn\u001b[39;00m \u001b[38;5;28mself\u001b[39m\u001b[38;5;241m.\u001b[39mapply_raw(engine\u001b[38;5;241m=\u001b[39m\u001b[38;5;28mself\u001b[39m\u001b[38;5;241m.\u001b[39mengine, engine_kwargs\u001b[38;5;241m=\u001b[39m\u001b[38;5;28mself\u001b[39m\u001b[38;5;241m.\u001b[39mengine_kwargs)\n\u001b[1;32m--> 916\u001b[0m \u001b[38;5;28;01mreturn\u001b[39;00m \u001b[38;5;28;43mself\u001b[39;49m\u001b[38;5;241;43m.\u001b[39;49m\u001b[43mapply_standard\u001b[49m\u001b[43m(\u001b[49m\u001b[43m)\u001b[49m\n",
      "File \u001b[1;32mc:\\Users\\Jason McGinty\\Documents\\Projects\\data-models\\agent-updater\\venv\\lib\\site-packages\\pandas\\core\\apply.py:1063\u001b[0m, in \u001b[0;36mFrameApply.apply_standard\u001b[1;34m(self)\u001b[0m\n\u001b[0;32m   1061\u001b[0m \u001b[38;5;28;01mdef\u001b[39;00m \u001b[38;5;21mapply_standard\u001b[39m(\u001b[38;5;28mself\u001b[39m):\n\u001b[0;32m   1062\u001b[0m     \u001b[38;5;28;01mif\u001b[39;00m \u001b[38;5;28mself\u001b[39m\u001b[38;5;241m.\u001b[39mengine \u001b[38;5;241m==\u001b[39m \u001b[38;5;124m\"\u001b[39m\u001b[38;5;124mpython\u001b[39m\u001b[38;5;124m\"\u001b[39m:\n\u001b[1;32m-> 1063\u001b[0m         results, res_index \u001b[38;5;241m=\u001b[39m \u001b[38;5;28;43mself\u001b[39;49m\u001b[38;5;241;43m.\u001b[39;49m\u001b[43mapply_series_generator\u001b[49m\u001b[43m(\u001b[49m\u001b[43m)\u001b[49m\n\u001b[0;32m   1064\u001b[0m     \u001b[38;5;28;01melse\u001b[39;00m:\n\u001b[0;32m   1065\u001b[0m         results, res_index \u001b[38;5;241m=\u001b[39m \u001b[38;5;28mself\u001b[39m\u001b[38;5;241m.\u001b[39mapply_series_numba()\n",
      "File \u001b[1;32mc:\\Users\\Jason McGinty\\Documents\\Projects\\data-models\\agent-updater\\venv\\lib\\site-packages\\pandas\\core\\apply.py:1081\u001b[0m, in \u001b[0;36mFrameApply.apply_series_generator\u001b[1;34m(self)\u001b[0m\n\u001b[0;32m   1078\u001b[0m \u001b[38;5;28;01mwith\u001b[39;00m option_context(\u001b[38;5;124m\"\u001b[39m\u001b[38;5;124mmode.chained_assignment\u001b[39m\u001b[38;5;124m\"\u001b[39m, \u001b[38;5;28;01mNone\u001b[39;00m):\n\u001b[0;32m   1079\u001b[0m     \u001b[38;5;28;01mfor\u001b[39;00m i, v \u001b[38;5;129;01min\u001b[39;00m \u001b[38;5;28menumerate\u001b[39m(series_gen):\n\u001b[0;32m   1080\u001b[0m         \u001b[38;5;66;03m# ignore SettingWithCopy here in case the user mutates\u001b[39;00m\n\u001b[1;32m-> 1081\u001b[0m         results[i] \u001b[38;5;241m=\u001b[39m \u001b[38;5;28mself\u001b[39m\u001b[38;5;241m.\u001b[39mfunc(v, \u001b[38;5;241m*\u001b[39m\u001b[38;5;28mself\u001b[39m\u001b[38;5;241m.\u001b[39margs, \u001b[38;5;241m*\u001b[39m\u001b[38;5;241m*\u001b[39m\u001b[38;5;28mself\u001b[39m\u001b[38;5;241m.\u001b[39mkwargs)\n\u001b[0;32m   1082\u001b[0m         \u001b[38;5;28;01mif\u001b[39;00m \u001b[38;5;28misinstance\u001b[39m(results[i], ABCSeries):\n\u001b[0;32m   1083\u001b[0m             \u001b[38;5;66;03m# If we have a view on v, we need to make a copy because\u001b[39;00m\n\u001b[0;32m   1084\u001b[0m             \u001b[38;5;66;03m#  series_generator will swap out the underlying data\u001b[39;00m\n\u001b[0;32m   1085\u001b[0m             results[i] \u001b[38;5;241m=\u001b[39m results[i]\u001b[38;5;241m.\u001b[39mcopy(deep\u001b[38;5;241m=\u001b[39m\u001b[38;5;28;01mFalse\u001b[39;00m)\n",
      "File \u001b[1;32mnattype.pyx:122\u001b[0m, in \u001b[0;36mpandas._libs.tslibs.nattype._NaT.__richcmp__\u001b[1;34m()\u001b[0m\n",
      "\u001b[1;31mTypeError\u001b[0m: Cannot compare NaT with datetime.date object"
     ]
    }
   ],
   "source": [
    "df_matched['max_date'] = df_matched[['listed_at', 'underoffer_at', 'sstc_at', 'reduced_at']].apply(max, axis=1)\n",
    "df_matched.head()"
   ]
  },
  {
   "cell_type": "code",
   "execution_count": 75,
   "metadata": {},
   "outputs": [
    {
     "name": "stdout",
     "output_type": "stream",
     "text": [
      "address_id    6425229\n",
      "status_id          12\n",
      "Name: 0, dtype: object\n",
      "address_id    6415251\n",
      "status_id          12\n",
      "Name: 1, dtype: object\n",
      "address_id    6396741\n",
      "status_id           1\n",
      "Name: 2, dtype: object\n",
      "address_id    6392622\n",
      "status_id           1\n",
      "Name: 3, dtype: object\n",
      "address_id    6424023\n",
      "status_id           1\n",
      "Name: 4, dtype: object\n"
     ]
    }
   ],
   "source": [
    "import requests\n",
    "import json\n",
    "\n",
    "for index,row in df_matched.iterrows():\n",
    "    print(df_matched.loc[index,['address_id', 'status_id']])"
   ]
  },
  {
   "cell_type": "code",
   "execution_count": 34,
   "metadata": {},
   "outputs": [],
   "source": [
    "def status_id_enum(id):\n",
    "    if id == 1:\n",
    "        return 'onmarket'\n",
    "    elif id == 2:\n",
    "        return 'underoffer'\n",
    "    elif id == 12:\n",
    "        return 'sstc'"
   ]
  },
  {
   "cell_type": "code",
   "execution_count": 78,
   "metadata": {},
   "outputs": [],
   "source": [
    "def get_doc_id_ai_id(address_id):\n",
    "    url = f\"{os.getenv('ELASTIC_HOSE')}/agent_sample_unified_search_index/_search\"\n",
    "\n",
    "    # specify the query\n",
    "    query = {\n",
    "        \"query\": {\n",
    "            \"match\": {\n",
    "                \"address_id\": address_id\n",
    "            }\n",
    "        }\n",
    "    }\n",
    "\n",
    "    # send a POST request\n",
    "    response = requests.post(url, headers={\"Content-Type\": \"application/json\"}, data=json.dumps(query))\n",
    "    res_json = json.loads(response.text)\n",
    "    if res_json['hits']['total']['value'] == 0:\n",
    "        return None\n",
    "    else:\n",
    "        return json.loads(response.text)['hits']['hits'][0]['_id']"
   ]
  },
  {
   "cell_type": "code",
   "execution_count": 79,
   "metadata": {},
   "outputs": [],
   "source": [
    "import datetime as dt\n",
    "\n",
    "def insert_updated_details_os(row):\n",
    "    doc_id = get_doc_id_ai_id(row['address_id'])\n",
    "    \n",
    "    if doc_id:\n",
    "        print(doc_id)\n",
    "        # specify the url\n",
    "        url = f\"{os.getenv('ELASTIC_HOSE')}/agent_sample_unified_search_index/_update/{doc_id}\"\n",
    "\n",
    "\n",
    "        if row['type'] == 'S':\n",
    "        # specify the update\n",
    "            update = {\n",
    "                \"doc\": {\n",
    "                    \"sales_event_date\": str(dt.date.today()),\n",
    "                    \"sales_act_status\": status_id_enum(row['status_id']),\n",
    "                    \"price\": row['current_price'],\n",
    "                    \"listing_activity_status\": True\n",
    "                }\n",
    "            }\n",
    "        if row['type'] == 'L':\n",
    "        # specify the update\n",
    "            update = {\n",
    "                \"doc\": {\n",
    "                    \"last_rented\": str(dt.date.today()),\n",
    "                    \"last_rented_value\": row['current_price'],\n",
    "                    \"listing_activity_status\": True\n",
    "                }\n",
    "            }\n",
    "        # send a POST request\n",
    "        response = requests.post(url, headers={\"Content-Type\": \"application/json\"}, data=json.dumps(update))\n",
    "\n",
    "        # print the response\n",
    "        print(json.loads(response.text))\n",
    "    else:\n",
    "        print('no doc id')"
   ]
  },
  {
   "cell_type": "code",
   "execution_count": 30,
   "metadata": {},
   "outputs": [
    {
     "ename": "NameError",
     "evalue": "name 'url' is not defined",
     "output_type": "error",
     "traceback": [
      "\u001b[1;31m---------------------------------------------------------------------------\u001b[0m",
      "\u001b[1;31mNameError\u001b[0m                                 Traceback (most recent call last)",
      "Cell \u001b[1;32mIn[30], line 1\u001b[0m\n\u001b[1;32m----> 1\u001b[0m \u001b[38;5;28mprint\u001b[39m(\u001b[43murl\u001b[49m)\n",
      "\u001b[1;31mNameError\u001b[0m: name 'url' is not defined"
     ]
    }
   ],
   "source": [
    "print(url)"
   ]
  },
  {
   "cell_type": "code",
   "execution_count": 80,
   "metadata": {},
   "outputs": [
    {
     "name": "stdout",
     "output_type": "stream",
     "text": [
      "address_id    6425229\n",
      "status_id          12\n",
      "Name: 0, dtype: object\n",
      "no doc id\n",
      "address_id    6415251\n",
      "status_id          12\n",
      "Name: 1, dtype: object\n",
      "no doc id\n",
      "address_id    6396741\n",
      "status_id           1\n",
      "Name: 2, dtype: object\n",
      "no doc id\n",
      "address_id    6392622\n",
      "status_id           1\n",
      "Name: 3, dtype: object\n",
      "no doc id\n",
      "address_id    6424023\n",
      "status_id           1\n",
      "Name: 4, dtype: object\n",
      "no doc id\n"
     ]
    }
   ],
   "source": [
    "for index,row in df_matched.iterrows():\n",
    "    print(df_matched.loc[index,['address_id', 'status_id']])\n",
    "    insert_updated_details_os(row)"
   ]
  },
  {
   "cell_type": "code",
   "execution_count": null,
   "metadata": {},
   "outputs": [],
   "source": [
    "# newly_added\n",
    "df_matched = pd.read_sql('''\n",
    "                SELECT *\n",
    "                FROM v_listings_v3_1\n",
    "                WHERE listed_at = CURDATE() - INTERVAL 1 DAY and address_id is not null\n",
    "                ;''', con=cnx)"
   ]
  }
 ],
 "metadata": {
  "kernelspec": {
   "display_name": "venv",
   "language": "python",
   "name": "python3"
  },
  "language_info": {
   "codemirror_mode": {
    "name": "ipython",
    "version": 3
   },
   "file_extension": ".py",
   "mimetype": "text/x-python",
   "name": "python",
   "nbconvert_exporter": "python",
   "pygments_lexer": "ipython3",
   "version": "3.10.9"
  }
 },
 "nbformat": 4,
 "nbformat_minor": 2
}
